{
 "cells": [
  {
   "cell_type": "markdown",
   "metadata": {},
   "source": [
    "# **Title**"
   ]
  },
  {
   "cell_type": "markdown",
   "metadata": {},
   "source": [
    "### Import Necessary Libraries"
   ]
  },
  {
   "cell_type": "code",
   "execution_count": 100,
   "metadata": {},
   "outputs": [],
   "source": [
    "import pandas as pd                   # For data analysis and manipulation\n",
    "import numpy as np                    # For numerical computations and operations\n",
    "import matplotlib.pylab as plt        # For creating plots and visualizations\n",
    "import seaborn as sns                 # For enhanced data visualization and plotting\n",
    "import klib as kb                     # For advanced plotting and data cleaning\n",
    "# pd.set_option('max_columns', 200)   ## For showing all the columns in the dataframe\n",
    "# Other libraries can be included based on the needs, however these are the most commonly used libraries."
   ]
  },
  {
   "cell_type": "markdown",
   "metadata": {},
   "source": [
    "#### Let's read our dataset with the help of data frame and pandas "
   ]
  },
  {
   "cell_type": "code",
   "execution_count": 2,
   "metadata": {},
   "outputs": [],
   "source": [
    "# df = pd.read_csv(\"../Folder_Name/File_Name.csv\", encoding=\"UTF-8\")\n",
    "\n",
    "# # For xlsx file's:\n",
    "\n",
    "# filename = \"Online Retail.xlsx\"\n",
    "# # Output: dataframe\n",
    "# def read_xlsx(filename):\n",
    "#     df = pd.read_excel(filename)\n",
    "#     return df\n",
    "# # Read the data from csv file and return the data in a dataframe\n",
    "# df = read_xlsx(filename)"
   ]
  },
  {
   "cell_type": "markdown",
   "metadata": {},
   "source": [
    "### Data Understanding "
   ]
  },
  {
   "cell_type": "code",
   "execution_count": 102,
   "metadata": {},
   "outputs": [],
   "source": [
    "# print(\" \\n Data Dimensions:\")\n",
    "# df.shape\n",
    "# # returns the dimensions (rows and columns) of our data"
   ]
  },
  {
   "cell_type": "markdown",
   "metadata": {},
   "source": [
    "We have ___ rows and ___ columns in our  datset. Let's see what we can do with it. "
   ]
  },
  {
   "cell_type": "markdown",
   "metadata": {},
   "source": [
    "#####  Display information about data types and missing values"
   ]
  },
  {
   "cell_type": "code",
   "execution_count": 3,
   "metadata": {},
   "outputs": [],
   "source": [
    "# print(\" \\n Dataset Information: \\n\")\n",
    "# df.info()"
   ]
  },
  {
   "cell_type": "markdown",
   "metadata": {},
   "source": [
    "We have following columns in our dataset:\n",
    "1. <br />\n",
    "2. <br />\n",
    "..."
   ]
  },
  {
   "cell_type": "code",
   "execution_count": 4,
   "metadata": {},
   "outputs": [],
   "source": [
    "# # Displays all the columns of the dataframe\n",
    "# column_names = df.columns.tolist()\n",
    "# print(\" \\n Column Names: \\n\", column_names)"
   ]
  },
  {
   "cell_type": "markdown",
   "metadata": {},
   "source": [
    "##### Display first 5 rows of the dataframe"
   ]
  },
  {
   "cell_type": "code",
   "execution_count": 103,
   "metadata": {},
   "outputs": [],
   "source": [
    "# print(\" \\n Data Preview Top 5 Rows: \\n\")\n",
    "# df.head(5)"
   ]
  },
  {
   "cell_type": "markdown",
   "metadata": {},
   "source": [
    "##### Display last 5 rows of the dataframe"
   ]
  },
  {
   "cell_type": "code",
   "execution_count": 104,
   "metadata": {},
   "outputs": [],
   "source": [
    "# print(\" \\n Data Preview Bottom 5 Rows: \\n\")\n",
    "# df.tail(5)"
   ]
  },
  {
   "cell_type": "markdown",
   "metadata": {},
   "source": [
    "##### Display summary statistics of numerical columns"
   ]
  },
  {
   "cell_type": "code",
   "execution_count": 106,
   "metadata": {},
   "outputs": [],
   "source": [
    "# # Generate summary statistics\n",
    "# print(\" \\n Summary Stats: \\n\")\n",
    "# summary_stats = df.describe()\n",
    "# print(summary_stats)"
   ]
  },
  {
   "cell_type": "markdown",
   "metadata": {},
   "source": [
    "##### Displays all the columns of the dataframe"
   ]
  },
  {
   "cell_type": "code",
   "execution_count": 107,
   "metadata": {},
   "outputs": [],
   "source": [
    "# column_names = df.columns.tolist()\n",
    "# print(\" \\n Column Names: \\n\", column_names)"
   ]
  },
  {
   "cell_type": "markdown",
   "metadata": {},
   "source": [
    "##### Check the data types of columns in the dataframe"
   ]
  },
  {
   "cell_type": "code",
   "execution_count": 108,
   "metadata": {},
   "outputs": [],
   "source": [
    "# print(\" \\n Data types of Columns: \\n\")\n",
    "# df.dtypes"
   ]
  },
  {
   "cell_type": "markdown",
   "metadata": {},
   "source": [
    "##### Make changes in data types according to the need."
   ]
  },
  {
   "cell_type": "markdown",
   "metadata": {},
   "source": [
    "#### Unique values in categorical columns"
   ]
  },
  {
   "cell_type": "code",
   "execution_count": 109,
   "metadata": {},
   "outputs": [],
   "source": [
    "# print(\" \\n Unique Values in Categorical Columns: \\n\")\n",
    "# categorical_columns = df.select_dtypes(include=[\"object\"]).columns\n",
    "# for col in categorical_columns:\n",
    "#     print(f\"{col}: {df[col].unique()}\")"
   ]
  },
  {
   "cell_type": "markdown",
   "metadata": {},
   "source": [
    "##### Generate descriptive statistics."
   ]
  },
  {
   "cell_type": "code",
   "execution_count": 110,
   "metadata": {},
   "outputs": [],
   "source": [
    "# df.describe()  # Only for Numeric columns.\n",
    "\n",
    "# # count - The number of not-empty values.\n",
    "# # mean - The average (mean) value.\n",
    "# # std - The standard deviation.\n",
    "# # min - the minimum value.\n",
    "# # 25% - The 25% percentile*.\n",
    "# # 50% - The 50% percentile*.\n",
    "# # 75% - The 75% percentile*.\n",
    "# # max - the maximum value."
   ]
  },
  {
   "cell_type": "markdown",
   "metadata": {},
   "source": [
    "##### Data Distribution"
   ]
  },
  {
   "cell_type": "code",
   "execution_count": 111,
   "metadata": {},
   "outputs": [],
   "source": [
    "# Bar Chart for data distribution\n",
    "# print(\" \\n Data Distributions: \\n\")\n",
    "# for col in column_names:\n",
    "#     if df[col].dtype != \"object\":\n",
    "#         plt.figure(figsize=(8, 6))\n",
    "#         sns.histplot(df[col], bins=20)\n",
    "#         plt.title(f\"Distribution of {col}\")\n",
    "#         plt.show()"
   ]
  },
  {
   "cell_type": "markdown",
   "metadata": {},
   "source": [
    "##### Check for Null values in dataframe"
   ]
  },
  {
   "cell_type": "code",
   "execution_count": 112,
   "metadata": {},
   "outputs": [],
   "source": [
    "# print(\" \\n Missing Values: \\n\")\n",
    "# print(df.isnull().sum())\n",
    "\n",
    "\n",
    "# # Visualize Null values using Klib Library\n",
    "# # !pip install klib\n",
    "\n",
    "# # kb.missingval_plot(df)"
   ]
  },
  {
   "cell_type": "markdown",
   "metadata": {},
   "source": [
    "#### Check for any -ve values in our dataset"
   ]
  },
  {
   "cell_type": "code",
   "execution_count": 7,
   "metadata": {},
   "outputs": [],
   "source": [
    "# # Select the columns for checking negative values\n",
    "# columns_to_check = ['Column_1', 'Column_2', 'Column_3', ...]      # Numerical columns\n",
    "\n",
    "# # Check for negative values in the selected columns\n",
    "# has_negative_values = (df[columns_to_check] < 0).any().any()\n",
    "\n",
    "# if has_negative_values:\n",
    "#     print(\"The dataset contains negative values in the selected columns.\")\n",
    "# else:\n",
    "#     print(\"The dataset does not contain negative values in the selected columns.\")\n"
   ]
  },
  {
   "cell_type": "markdown",
   "metadata": {},
   "source": [
    "##### Categorical Variable frequency"
   ]
  },
  {
   "cell_type": "code",
   "execution_count": 113,
   "metadata": {},
   "outputs": [],
   "source": [
    "# kb.cat_plot(df)"
   ]
  },
  {
   "cell_type": "markdown",
   "metadata": {},
   "source": [
    "### Data Preperation"
   ]
  },
  {
   "cell_type": "markdown",
   "metadata": {},
   "source": [
    "We can remove null values when: <br />\n",
    "There percentage in a column is relatively low, and their removal does not significantly impact the analysis. <br />\n",
    "There percentage in a column is relatively high, and their removal does not significantly impact the analysis."
   ]
  },
  {
   "cell_type": "code",
   "execution_count": 114,
   "metadata": {},
   "outputs": [],
   "source": [
    "# # Calculate the percentage of missing values in each column\n",
    "\n",
    "\n",
    "# missing_percentage = (df.isnull().sum() / len(df)) * 100\n",
    "\n",
    "# # Threshold for removing null values (In this case, 10%)\n",
    "# threshold = 10\n",
    "\n",
    "# # List of columns with missing values below the threshold\n",
    "# columns_to_keep = missing_percentage[missing_percentage < threshold].index.tolist()\n",
    "\n",
    "\n",
    "# # Remove columns with missing percentage greater than 80%\n",
    "# data_cleaned = df.drop(columns=missing_percentage[missing_percentage > 80].index)\n",
    "\n",
    "# # Remove rows with null values from selected columns\n",
    "# data_cleaned = data_cleaned.dropna(subset=columns_to_keep)\n",
    "\n",
    "# # Print the resulting DataFrame\n",
    "# # print(\"Cleaned Data: \\n\", data_cleaned)\n",
    "# print(\"Original Columns: \", df.shape)\n",
    "# print(\"Dataframe after removing  Col: \", data_cleaned.shape)"
   ]
  },
  {
   "cell_type": "markdown",
   "metadata": {},
   "source": [
    "##### Data Cleaning using Klib Library"
   ]
  },
  {
   "cell_type": "code",
   "execution_count": 5,
   "metadata": {},
   "outputs": [],
   "source": [
    "# df_clean = kb.data_cleaning(data_cleaned)\n",
    "# df_clean.info()"
   ]
  },
  {
   "cell_type": "markdown",
   "metadata": {},
   "source": [
    "## Let's have some fun with the data"
   ]
  },
  {
   "cell_type": "markdown",
   "metadata": {},
   "source": [
    "##### Color Encoded Co-Relation Matrix"
   ]
  },
  {
   "cell_type": "code",
   "execution_count": 116,
   "metadata": {},
   "outputs": [],
   "source": [
    "# kb.corr_mat(df)"
   ]
  },
  {
   "cell_type": "markdown",
   "metadata": {},
   "source": [
    "##### Co-Relation Matrix Plot"
   ]
  },
  {
   "cell_type": "code",
   "execution_count": 117,
   "metadata": {},
   "outputs": [],
   "source": [
    "# kb.corr_plot(df)\n",
    "\n",
    "# # Or can use Interactive plot using\n",
    "# # kb.corr_interactive_plot(df)"
   ]
  },
  {
   "cell_type": "markdown",
   "metadata": {},
   "source": [
    "##### Relationships"
   ]
  },
  {
   "cell_type": "code",
   "execution_count": 118,
   "metadata": {},
   "outputs": [],
   "source": [
    "# print(\" \\n Pairwise Relationships: \\n\")\n",
    "# sns.pairplot(df)\n",
    "# plt.show()"
   ]
  },
  {
   "cell_type": "markdown",
   "metadata": {},
   "source": [
    "##### Outlier Detection"
   ]
  },
  {
   "cell_type": "code",
   "execution_count": 119,
   "metadata": {},
   "outputs": [],
   "source": [
    "# print(\" \\n Outliers Detection: \\n\")\n",
    "# for col in column_names:\n",
    "#     if df[col].dtype != \"object\":\n",
    "#         plt.figure(figsize=(8, 6))\n",
    "#         sns.boxplot(df[col])\n",
    "#         plt.title(f\"Boxplot of {col}\")\n",
    "#         plt.show()"
   ]
  },
  {
   "cell_type": "code",
   "execution_count": null,
   "metadata": {},
   "outputs": [],
   "source": []
  }
 ],
 "metadata": {
  "kernelspec": {
   "display_name": "Python 3",
   "language": "python",
   "name": "python3"
  },
  "language_info": {
   "codemirror_mode": {
    "name": "ipython",
    "version": 3
   },
   "file_extension": ".py",
   "mimetype": "text/x-python",
   "name": "python",
   "nbconvert_exporter": "python",
   "pygments_lexer": "ipython3",
   "version": "3.10.8"
  },
  "orig_nbformat": 4
 },
 "nbformat": 4,
 "nbformat_minor": 2
}
